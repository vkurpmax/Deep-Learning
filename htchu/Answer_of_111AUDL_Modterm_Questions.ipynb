{
  "nbformat": 4,
  "nbformat_minor": 0,
  "metadata": {
    "colab": {
      "provenance": [],
      "collapsed_sections": [
        "51fhZiEtpB1p"
      ],
      "include_colab_link": true
    },
    "kernelspec": {
      "name": "python3",
      "display_name": "Python 3"
    },
    "language_info": {
      "name": "python"
    }
  },
  "cells": [
    {
      "cell_type": "markdown",
      "metadata": {
        "id": "view-in-github",
        "colab_type": "text"
      },
      "source": [
        "<a href=\"https://colab.research.google.com/github/vkurpmax/Deep-Learning/blob/main/htchu/Answer_of_111AUDL_Modterm_Questions.ipynb\" target=\"_parent\"><img src=\"https://colab.research.google.com/assets/colab-badge.svg\" alt=\"Open In Colab\"/></a>"
      ]
    },
    {
      "cell_type": "markdown",
      "source": [
        "#Program Fundamentals"
      ],
      "metadata": {
        "id": "29Bkhh9QerlX"
      }
    },
    {
      "cell_type": "markdown",
      "source": [
        "## Python"
      ],
      "metadata": {
        "id": "51fhZiEtpB1p"
      }
    },
    {
      "cell_type": "markdown",
      "source": [
        "1. Which of the following is not a built-in function of Python\n",
        "(a) type (b) help (c) max (d) sap\n",
        "1. a = 11*11%10 After the calculation, what is the value of the variable a?\n",
        "(a) 1 (b) 2 (c) 3 (d) 4\n",
        "1. Which number is not in range(1,4)\n",
        "(a) 1 (b) 2 (c) 3 (d) 4\n",
        "1. x = lambda a : a //5, what is the result of calling x(10)? (a) 1 (b) 2 (c) 3 (d) 4\n",
        "1. What is the value of b=[1, 2, 3, 4, 5], b[-4]? (a) 1 (b) 2 (c) 3 (d) 4\n"
      ],
      "metadata": {
        "id": "W8x0uD82fqkv"
      }
    },
    {
      "cell_type": "code",
      "source": [
        "#1 D (sap)"
      ],
      "metadata": {
        "id": "uT7uq_XCn4k1"
      },
      "execution_count": 5,
      "outputs": []
    },
    {
      "cell_type": "code",
      "source": [
        "#2 A\n",
        "a = 11*11%10\n",
        "a"
      ],
      "metadata": {
        "colab": {
          "base_uri": "https://localhost:8080/"
        },
        "id": "_GNnjuFucjtJ",
        "outputId": "bde0be15-05f3-4a77-f01f-b321738da394"
      },
      "execution_count": 9,
      "outputs": [
        {
          "output_type": "execute_result",
          "data": {
            "text/plain": [
              "1"
            ]
          },
          "metadata": {},
          "execution_count": 9
        }
      ]
    },
    {
      "cell_type": "code",
      "source": [
        "#3 D\n",
        "for i in range(1,4):\n",
        "  print(i)"
      ],
      "metadata": {
        "colab": {
          "base_uri": "https://localhost:8080/"
        },
        "id": "oMI5c_X0c0wB",
        "outputId": "7e9a9367-0e19-4a4c-e31f-9c09043bdcfd"
      },
      "execution_count": 14,
      "outputs": [
        {
          "output_type": "stream",
          "name": "stdout",
          "text": [
            "1\n",
            "2\n",
            "3\n"
          ]
        }
      ]
    },
    {
      "cell_type": "code",
      "source": [
        "#4 B\n",
        "x = lambda a : a //5\n",
        "x(10)"
      ],
      "metadata": {
        "colab": {
          "base_uri": "https://localhost:8080/"
        },
        "id": "QcaW0XHXeO7r",
        "outputId": "258625ca-7ae3-46db-a10e-e82fe92949b2"
      },
      "execution_count": 15,
      "outputs": [
        {
          "output_type": "execute_result",
          "data": {
            "text/plain": [
              "2"
            ]
          },
          "metadata": {},
          "execution_count": 15
        }
      ]
    },
    {
      "cell_type": "code",
      "source": [
        "#5 B\n",
        "b=[1, 2, 3, 4, 5]\n",
        "b[-4]"
      ],
      "metadata": {
        "colab": {
          "base_uri": "https://localhost:8080/"
        },
        "id": "RuhlBd_meYFu",
        "outputId": "e06e2e42-07a3-443f-8044-ef7a8a346a8b"
      },
      "execution_count": 19,
      "outputs": [
        {
          "output_type": "execute_result",
          "data": {
            "text/plain": [
              "2"
            ]
          },
          "metadata": {},
          "execution_count": 19
        }
      ]
    },
    {
      "cell_type": "markdown",
      "source": [
        "## Numpy\n"
      ],
      "metadata": {
        "id": "ZwJsmFq9o2rT"
      }
    },
    {
      "cell_type": "markdown",
      "source": [
        "6. Which of the following instructions creates a 5 zero-element numpy.ndarray array\n",
        "(a) np.ones(5) (b) np.zeros(5) (c) np.zeros(10) (d) np.zeros(10)\n",
        "1. b = np.array([(1,2,3), (4,5,6)]) What is the value of the attribute b.ndim of variable b? (a) 1 (b) 2 (c) 3 ( d) 4\n",
        "1. a = np.array([1, 2, 3, 4]) What is the value of the attribute a.shape of the variable a? (a) (1,) (b) (2,) (c) (3,) (d) (4,)\n",
        "1. a = np.array([1, 2, 3, 4]).reshape(3, -1) What is the value of the attribute a.shape of variable a? (a) (1,1) (b) (2 ,2) (c) (3,2) (d) (3,3)\n",
        "1. a=np.sqrt([1, 2, 3, 4]), what is the value of a[3]? (a) 1.0 (b) 2.0 (c) 3.0 (d) 4.0"
      ],
      "metadata": {
        "id": "O3wyox6w31CN"
      }
    },
    {
      "cell_type": "code",
      "source": [
        "#6 B\n",
        "import numpy as np\n",
        "np.zeros(5)"
      ],
      "metadata": {
        "id": "Zi1vJdU3f2aI",
        "colab": {
          "base_uri": "https://localhost:8080/"
        },
        "outputId": "93b66a48-4aa6-4beb-c5e9-7361c31f5f8a"
      },
      "execution_count": 20,
      "outputs": [
        {
          "output_type": "execute_result",
          "data": {
            "text/plain": [
              "array([0., 0., 0., 0., 0.])"
            ]
          },
          "metadata": {},
          "execution_count": 20
        }
      ]
    },
    {
      "cell_type": "code",
      "source": [
        "#7 B\n",
        "import numpy as np\n",
        "b = np.array([(1,2,3), (4,5,6)])\n",
        "b.ndim"
      ],
      "metadata": {
        "colab": {
          "base_uri": "https://localhost:8080/"
        },
        "id": "uzlLMnjqfQxO",
        "outputId": "597c54ca-e8eb-432c-c53a-50f698a94cda"
      },
      "execution_count": 22,
      "outputs": [
        {
          "output_type": "execute_result",
          "data": {
            "text/plain": [
              "2"
            ]
          },
          "metadata": {},
          "execution_count": 22
        }
      ]
    },
    {
      "cell_type": "code",
      "source": [
        "#8 D\n",
        "import numpy as np\n",
        "a = np.array([1, 2, 3, 4])\n",
        "a.shape"
      ],
      "metadata": {
        "colab": {
          "base_uri": "https://localhost:8080/"
        },
        "id": "by8QBrRPfi2q",
        "outputId": "e22a79a1-6caf-494a-b632-8f14e4b295ad"
      },
      "execution_count": 23,
      "outputs": [
        {
          "output_type": "execute_result",
          "data": {
            "text/plain": [
              "(4,)"
            ]
          },
          "metadata": {},
          "execution_count": 23
        }
      ]
    },
    {
      "cell_type": "code",
      "source": [
        "#9 \n",
        "import numpy as np\n",
        "a = np.array([1, 2, 3, 4]).reshape(4, -1)\n",
        "a.shape"
      ],
      "metadata": {
        "colab": {
          "base_uri": "https://localhost:8080/"
        },
        "id": "vlDa3y9sf95Q",
        "outputId": "f3b185bc-56b3-43ad-95e3-4eb2df58fada"
      },
      "execution_count": 33,
      "outputs": [
        {
          "output_type": "execute_result",
          "data": {
            "text/plain": [
              "(4, 1)"
            ]
          },
          "metadata": {},
          "execution_count": 33
        }
      ]
    },
    {
      "cell_type": "code",
      "source": [
        "#10 B\n",
        "a=np.sqrt([1, 2, 3, 4])\n",
        "a[3]"
      ],
      "metadata": {
        "colab": {
          "base_uri": "https://localhost:8080/"
        },
        "id": "f40ZJITKhUYL",
        "outputId": "8dc0dbdc-31b4-4dc8-9f7c-ac3ad89b5bbc"
      },
      "execution_count": 35,
      "outputs": [
        {
          "output_type": "execute_result",
          "data": {
            "text/plain": [
              "2.0"
            ]
          },
          "metadata": {},
          "execution_count": 35
        }
      ]
    },
    {
      "cell_type": "markdown",
      "source": [
        "## Pandas\n",
        "```\n",
        "import pandas as pd\n",
        "import numpy as np\n",
        "df = pd.DataFrame([[1, 2, 3], [4, 5, 6]], columns=list('ABC'))\n",
        "```\n",
        "11. Which of the following is the data type of Pandas: import pandas as pd (a) pd.Serial (b) pd.DataFrame (c) pd.DataSet (d) pd.Data\n",
        "1. Which of the following commands can see the last 5 columns of df (a) df.head() (b) df.describe() (c) df.tail() (d) df.fillna(value=1.0)\n",
        "1. What is the value of df.iloc[1, 2]? (a) 3 (b) 4 (c) 5 (d) 6\n",
        "1. Which of the following commands can save df as a csv file (a) df.to_csv() (b) pd.read_csv() (c) df.to_excel() (d) df.append()\n",
        "1. Which of the following commands cannot create a date in 2022 (a) pd.date_range('2022/1/1', periods=365)\n",
        "(b) pd.date_range('2022.1.1', periods=365) (c) pd.date_range('20220101', periods=365) (d) pd.date_range('2022Y', periods=365)"
      ],
      "metadata": {
        "id": "QLDHPGuMeRMk"
      }
    },
    {
      "cell_type": "code",
      "source": [
        "#11 B\n",
        "import pandas as pd\n",
        "import numpy as np\n",
        "df = pd.DataFrame([[1, 2, 3], [4, 5, 6]], columns=list('ABC'))"
      ],
      "metadata": {
        "id": "-K2q7l1P7P_H"
      },
      "execution_count": 38,
      "outputs": []
    },
    {
      "cell_type": "code",
      "source": [
        "#12 C\n",
        "import pandas as pd\n",
        "import numpy as np\n",
        "df = pd.DataFrame([[1, 0],\n",
        "                   [2, 0],\n",
        "                   [3, 0],\n",
        "                   [4, 0],\n",
        "                   [5, 0],\n",
        "                   [6, 0],\n",
        "                   [7, 0],\n",
        "                   [8, 0],\n",
        "                   [9, 0],\n",
        "                   [10, 0]])\n",
        "df.tail()"
      ],
      "metadata": {
        "colab": {
          "base_uri": "https://localhost:8080/",
          "height": 206
        },
        "id": "42GrlWkNiyG7",
        "outputId": "e66eb3a0-0bf8-48f5-c6a6-c3b0ff28f77e"
      },
      "execution_count": 51,
      "outputs": [
        {
          "output_type": "execute_result",
          "data": {
            "text/plain": [
              "    0  1\n",
              "5   6  0\n",
              "6   7  0\n",
              "7   8  0\n",
              "8   9  0\n",
              "9  10  0"
            ],
            "text/html": [
              "\n",
              "  <div id=\"df-940a66ae-5d0e-4d1c-9f6d-43422e19e6c5\">\n",
              "    <div class=\"colab-df-container\">\n",
              "      <div>\n",
              "<style scoped>\n",
              "    .dataframe tbody tr th:only-of-type {\n",
              "        vertical-align: middle;\n",
              "    }\n",
              "\n",
              "    .dataframe tbody tr th {\n",
              "        vertical-align: top;\n",
              "    }\n",
              "\n",
              "    .dataframe thead th {\n",
              "        text-align: right;\n",
              "    }\n",
              "</style>\n",
              "<table border=\"1\" class=\"dataframe\">\n",
              "  <thead>\n",
              "    <tr style=\"text-align: right;\">\n",
              "      <th></th>\n",
              "      <th>0</th>\n",
              "      <th>1</th>\n",
              "    </tr>\n",
              "  </thead>\n",
              "  <tbody>\n",
              "    <tr>\n",
              "      <th>5</th>\n",
              "      <td>6</td>\n",
              "      <td>0</td>\n",
              "    </tr>\n",
              "    <tr>\n",
              "      <th>6</th>\n",
              "      <td>7</td>\n",
              "      <td>0</td>\n",
              "    </tr>\n",
              "    <tr>\n",
              "      <th>7</th>\n",
              "      <td>8</td>\n",
              "      <td>0</td>\n",
              "    </tr>\n",
              "    <tr>\n",
              "      <th>8</th>\n",
              "      <td>9</td>\n",
              "      <td>0</td>\n",
              "    </tr>\n",
              "    <tr>\n",
              "      <th>9</th>\n",
              "      <td>10</td>\n",
              "      <td>0</td>\n",
              "    </tr>\n",
              "  </tbody>\n",
              "</table>\n",
              "</div>\n",
              "      <button class=\"colab-df-convert\" onclick=\"convertToInteractive('df-940a66ae-5d0e-4d1c-9f6d-43422e19e6c5')\"\n",
              "              title=\"Convert this dataframe to an interactive table.\"\n",
              "              style=\"display:none;\">\n",
              "        \n",
              "  <svg xmlns=\"http://www.w3.org/2000/svg\" height=\"24px\"viewBox=\"0 0 24 24\"\n",
              "       width=\"24px\">\n",
              "    <path d=\"M0 0h24v24H0V0z\" fill=\"none\"/>\n",
              "    <path d=\"M18.56 5.44l.94 2.06.94-2.06 2.06-.94-2.06-.94-.94-2.06-.94 2.06-2.06.94zm-11 1L8.5 8.5l.94-2.06 2.06-.94-2.06-.94L8.5 2.5l-.94 2.06-2.06.94zm10 10l.94 2.06.94-2.06 2.06-.94-2.06-.94-.94-2.06-.94 2.06-2.06.94z\"/><path d=\"M17.41 7.96l-1.37-1.37c-.4-.4-.92-.59-1.43-.59-.52 0-1.04.2-1.43.59L10.3 9.45l-7.72 7.72c-.78.78-.78 2.05 0 2.83L4 21.41c.39.39.9.59 1.41.59.51 0 1.02-.2 1.41-.59l7.78-7.78 2.81-2.81c.8-.78.8-2.07 0-2.86zM5.41 20L4 18.59l7.72-7.72 1.47 1.35L5.41 20z\"/>\n",
              "  </svg>\n",
              "      </button>\n",
              "      \n",
              "  <style>\n",
              "    .colab-df-container {\n",
              "      display:flex;\n",
              "      flex-wrap:wrap;\n",
              "      gap: 12px;\n",
              "    }\n",
              "\n",
              "    .colab-df-convert {\n",
              "      background-color: #E8F0FE;\n",
              "      border: none;\n",
              "      border-radius: 50%;\n",
              "      cursor: pointer;\n",
              "      display: none;\n",
              "      fill: #1967D2;\n",
              "      height: 32px;\n",
              "      padding: 0 0 0 0;\n",
              "      width: 32px;\n",
              "    }\n",
              "\n",
              "    .colab-df-convert:hover {\n",
              "      background-color: #E2EBFA;\n",
              "      box-shadow: 0px 1px 2px rgba(60, 64, 67, 0.3), 0px 1px 3px 1px rgba(60, 64, 67, 0.15);\n",
              "      fill: #174EA6;\n",
              "    }\n",
              "\n",
              "    [theme=dark] .colab-df-convert {\n",
              "      background-color: #3B4455;\n",
              "      fill: #D2E3FC;\n",
              "    }\n",
              "\n",
              "    [theme=dark] .colab-df-convert:hover {\n",
              "      background-color: #434B5C;\n",
              "      box-shadow: 0px 1px 3px 1px rgba(0, 0, 0, 0.15);\n",
              "      filter: drop-shadow(0px 1px 2px rgba(0, 0, 0, 0.3));\n",
              "      fill: #FFFFFF;\n",
              "    }\n",
              "  </style>\n",
              "\n",
              "      <script>\n",
              "        const buttonEl =\n",
              "          document.querySelector('#df-940a66ae-5d0e-4d1c-9f6d-43422e19e6c5 button.colab-df-convert');\n",
              "        buttonEl.style.display =\n",
              "          google.colab.kernel.accessAllowed ? 'block' : 'none';\n",
              "\n",
              "        async function convertToInteractive(key) {\n",
              "          const element = document.querySelector('#df-940a66ae-5d0e-4d1c-9f6d-43422e19e6c5');\n",
              "          const dataTable =\n",
              "            await google.colab.kernel.invokeFunction('convertToInteractive',\n",
              "                                                     [key], {});\n",
              "          if (!dataTable) return;\n",
              "\n",
              "          const docLinkHtml = 'Like what you see? Visit the ' +\n",
              "            '<a target=\"_blank\" href=https://colab.research.google.com/notebooks/data_table.ipynb>data table notebook</a>'\n",
              "            + ' to learn more about interactive tables.';\n",
              "          element.innerHTML = '';\n",
              "          dataTable['output_type'] = 'display_data';\n",
              "          await google.colab.output.renderOutput(dataTable, element);\n",
              "          const docLink = document.createElement('div');\n",
              "          docLink.innerHTML = docLinkHtml;\n",
              "          element.appendChild(docLink);\n",
              "        }\n",
              "      </script>\n",
              "    </div>\n",
              "  </div>\n",
              "  "
            ]
          },
          "metadata": {},
          "execution_count": 51
        }
      ]
    },
    {
      "cell_type": "code",
      "source": [
        "#13 D\n",
        "import pandas as pd\n",
        "import numpy as np\n",
        "df = pd.DataFrame([[1, 2, 3], [4, 5, 6]], columns=list('ABC'))\n",
        "df.iloc[1, 2]"
      ],
      "metadata": {
        "colab": {
          "base_uri": "https://localhost:8080/"
        },
        "id": "avbd0eb1knIt",
        "outputId": "13859e6e-2c7d-464a-fee7-01b0b73fe7c7"
      },
      "execution_count": 55,
      "outputs": [
        {
          "output_type": "execute_result",
          "data": {
            "text/plain": [
              "6"
            ]
          },
          "metadata": {},
          "execution_count": 55
        }
      ]
    },
    {
      "cell_type": "code",
      "source": [
        "#14 A\n",
        "import pandas as pd\n",
        "import numpy as np\n",
        "df = pd.DataFrame([[1, 2, 3], [4, 5, 6]], columns=list('ABC'))\n",
        "df.to_csv('pandas.csv')\n",
        "from google.colab import files\n",
        "files.download('pandas.csv')"
      ],
      "metadata": {
        "id": "vcpzGRjwlB0N"
      },
      "execution_count": 62,
      "outputs": []
    },
    {
      "cell_type": "code",
      "source": [
        "#15 D\n",
        "import pandas as pd\n",
        "import numpy as np\n",
        "#pd.date_range('2022/1/1', periods=365)\n",
        "#pd.date_range('2022.1.1', periods=365)\n",
        "#pd.date_range('20220101', periods=365)\n",
        "#pd.date_range('2022Y', periods=365)"
      ],
      "metadata": {
        "id": "fNDBF3-HmJMH"
      },
      "execution_count": 70,
      "outputs": []
    },
    {
      "cell_type": "markdown",
      "source": [
        "## scikit-learn"
      ],
      "metadata": {
        "id": "Js_1pVwIetvr"
      }
    },
    {
      "cell_type": "markdown",
      "source": [
        "16. Which of the following is not a class of sklearn.preprocessing (a) LabelEncoder (b) OneHotEncoder (c) PowerTransformer (d) NewTransformer\n",
        "1. Which of the following is not a class of sklearn.ensemble (a) AdaBoostClassifier (b) BetaBoostClassifier (c) BaggingClassifier (d) StackingClassifier\n",
        "1. Which of the following is not a category of sklearn.model_selection (a) KFold (b) LeaveOneOut (c) ShuffleSpooler (d) ShuffleSplit\n",
        "1. Which of the following is not an Unsupervised learning category of sklearn (a) GaussianMixture¶ (b) PCA (c) KMeans (d) SOM\n",
        "1. Which of the following is a class of sklearn that can draw ROC curves (a) RocDraw (b) RocCurvePlot (c) RocCurveShow (d) RocCurveDisplay"
      ],
      "metadata": {
        "id": "Uz0zBll8e0uD"
      }
    },
    {
      "cell_type": "code",
      "source": [
        "#16 D\n",
        "from sklearn import preprocessing\n",
        "\n",
        "from sklearn.preprocessing import LabelEncoder\n",
        "from sklearn.preprocessing import OneHotEncoder\n",
        "from sklearn.preprocessing import PowerTransformer\n",
        "#from sklearn.preprocessing import NewTransformer"
      ],
      "metadata": {
        "id": "HzI1U5Bq-kXR"
      },
      "execution_count": 76,
      "outputs": []
    },
    {
      "cell_type": "code",
      "source": [
        "#17 B\n",
        "from sklearn import ensemble\n",
        "\n",
        "from sklearn.ensemble import AdaBoostClassifier\n",
        "#from sklearn.ensemble import BetaBoostClassifier\n",
        "from sklearn.ensemble import BaggingClassifier\n",
        "from sklearn.ensemble import StackingClassifier"
      ],
      "metadata": {
        "id": "3NDyV0Wgojpa"
      },
      "execution_count": 80,
      "outputs": []
    },
    {
      "cell_type": "code",
      "source": [
        "#18 C\n",
        "from sklearn import model_selection\n",
        "\n",
        "from sklearn.model_selection import KFold\n",
        "from sklearn.model_selection import LeaveOneOut\n",
        "#from sklearn.model_selection import ShuffleSpooler\n",
        "from sklearn.model_selection import ShuffleSplit"
      ],
      "metadata": {
        "id": "xlxfRa1IqIcD"
      },
      "execution_count": 87,
      "outputs": []
    },
    {
      "cell_type": "code",
      "source": [
        "#19 D SOM"
      ],
      "metadata": {
        "id": "OnvKxGffq0ea"
      },
      "execution_count": null,
      "outputs": []
    },
    {
      "cell_type": "code",
      "source": [
        "#20 D\n",
        "import matplotlib.pyplot as plt\n",
        "import numpy as np\n",
        "from sklearn import metrics\n",
        "y = np.array([0, 0, 1, 1])\n",
        "pred = np.array([0.1, 0.4, 0.35, 0.8])\n",
        "fpr, tpr, thresholds = metrics.roc_curve(y, pred)\n",
        "roc_auc = metrics.auc(fpr, tpr)\n",
        "display = metrics.RocCurveDisplay(fpr=fpr, tpr=tpr, roc_auc=roc_auc,\n",
        "                                  estimator_name='example estimator')\n",
        "display.plot()\n",
        "plt.show()"
      ],
      "metadata": {
        "colab": {
          "base_uri": "https://localhost:8080/",
          "height": 279
        },
        "id": "k94Wb49QrskE",
        "outputId": "ce81d019-1b91-4bef-df38-9574afa89d93"
      },
      "execution_count": 88,
      "outputs": [
        {
          "output_type": "display_data",
          "data": {
            "text/plain": [
              "<Figure size 432x288 with 1 Axes>"
            ],
            "image/png": "[encoded data removed]"
          },
          "metadata": {
            "needs_background": "light"
          }
        }
      ]
    },
    {
      "cell_type": "markdown",
      "source": [
        "# Machine learning"
      ],
      "metadata": {
        "id": "buLhFUzOejlN"
      }
    },
    {
      "cell_type": "markdown",
      "source": [
        "21. Which of the following is not a supervised learning method for machine learning (a) Support Vector Machine (SVM) (b) Random Forest (RF) (c) K-Nearest Neighbors (KNN) (d) K-Average Algorithms (K-Means)\n",
        "\n",
        "1. Which of the following is not an unsupervised learning method for machine learning (a) Self-Organizing Map (SOM) (b) Principal Component Analysis (PCA) (c) K-Nearest Neighbors (KNN) (d) K - Average Algorithm (K-Means)\n",
        "\n",
        "1. What kind of machine learning is house price prediction? (a) Supervised learning (b) Unsupervised learning (c) Reinforcement learning (d) Artificial learning\n",
        "\n",
        "1. What kind of machine learning is object detection? (a) Supervised learning (b) Unsupervised learning (c) Reinforcement learning (d) Artificial learning\n",
        "\n",
        "1. What kind of machine learning is a Generative Adversarial Network (GAN)? (a) Supervised learning (b) Unsupervised learning (c) Reinforcement learning ( d) Artificial learning\n",
        "\n"
      ],
      "metadata": {
        "id": "8haQ5aQkCLjn"
      }
    },
    {
      "cell_type": "code",
      "source": [
        "#21 (d) K-Average Algorithms (K-Means)\n",
        "#22 (c) K-Nearest Neighbors (KNN)\n",
        "#23 (a) Supervised learning\n",
        "#24 (a) Supervised learning\n",
        "#25 (b) Unsupervised learning"
      ],
      "metadata": {
        "id": "E3gE6qoktxK3"
      },
      "execution_count": null,
      "outputs": []
    },
    {
      "cell_type": "markdown",
      "source": [
        "# Deep learning"
      ],
      "metadata": {
        "id": "5BmIy4SFe03a"
      }
    },
    {
      "cell_type": "markdown",
      "source": [
        "26. How to improve the model overfitting (Overfitting)? How to improve the model overfitting?\n",
        "(a) Add more training data.\n",
        "(b) To normalize To normalize.\n",
        "(c) Randomly turn off neurons To dropout.\n",
        "(d) All of the above are All of the above.\n",
        "22. Which of the following is NOT how Tensorflow builds deep learning models\n",
        "(a) Sequential API (b) Functional API (c) Subclassing API (d) Superclassing API\n",
        "\n",
        "23. Which of the following is not a neural layer that is often used in CNN deep learning models\n",
        "(a) Convolution Layer (‎Convolution Layer) (b) ‎Pooling Layer (‎Pooling Layer) (c) Dense Layer (d) Long Short-Term Memory Layer (LSTM Layer)\n",
        "1. Which of the following is not an RNN deep learning model\n",
        "(a) Convolution Layer (‎Convolution Layer) (b) ‎Pooling Layer (‎Pooling Layer) (c) Dense Layer (d) Long Short-Term Memory Layer (LSTM Layer)\n",
        "1. The activation function defines the output value of the neural node. Which of the following is not a common activation function (a) Linear rectification function (ReLU) (b) Hyperbolic tangent function (tanh) (c) S-shaped logic function (sigmoid) (d) exponential function (exp)\n"
      ],
      "metadata": {
        "id": "iMfBFXEXF-sf"
      }
    },
    {
      "cell_type": "code",
      "source": [
        "#26 (a) Add more training data.\n",
        "#27 (c) Subclassing API\n",
        "#28 (d) Long Short-Term Memory Layer (LSTM Layer)\n",
        "#29 (a) Convolution Layer (‎Convolution Layer)\n",
        "#30 (d) exponential function (exp)"
      ],
      "metadata": {
        "id": "eaEjHlajuCRh"
      },
      "execution_count": null,
      "outputs": []
    },
    {
      "cell_type": "markdown",
      "source": [],
      "metadata": {
        "id": "tuzfySiMepp1"
      }
    }
  ]
}