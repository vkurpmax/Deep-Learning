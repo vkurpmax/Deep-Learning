{
  "nbformat": 4,
  "nbformat_minor": 0,
  "metadata": {
    "colab": {
      "provenance": [],
      "include_colab_link": true
    },
    "kernelspec": {
      "name": "python3",
      "display_name": "Python 3"
    },
    "language_info": {
      "name": "python"
    }
  },
  "cells": [
    {
      "cell_type": "markdown",
      "metadata": {
        "id": "view-in-github",
        "colab_type": "text"
      },
      "source": [
        "<a href=\"https://colab.research.google.com/github/vkurpmax/Deep-Learning/blob/main/htchu/08_DroneCounting.ipynb\" target=\"_parent\"><img src=\"https://colab.research.google.com/assets/colab-badge.svg\" alt=\"Open In Colab\"/></a>"
      ]
    },
    {
      "cell_type": "markdown",
      "source": [
        "# The Drone (UAV Flying Vehicles) Counting Competition\n",
        "\n",
        "https://tbrain.trendmicro.com.tw/Competitions/Details/25"
      ],
      "metadata": {
        "id": "0TDoOZX1WkDq"
      }
    },
    {
      "cell_type": "markdown",
      "source": [
        "## Competition description\n",
        "In recent years, the impact of the high development of science and technology has gradually penetrated into the human living environment. Unmanned aerial vehicles provide a wider field of view and a higher degree of mobility and flexibility, and have been used in many different industries so far, such as geographic information collection, traffic monitoring, item delivery, communication network relay stations and other different types. This project focuses on AI and image recognition and the application of unmanned aerial vehicles. It is expected that the participants will take the problems that may be encountered in daily life as the starting point, use the principles of deep learning as the foundation, and use the core knowledge of relevant artificial intelligence to develop applications in depth, and then unmanned Flying vehicle-related technologies are applied in the actual environment, combining talents in different fields and exerting creativity, and the professional knowledge they usually learn is actually implemented, and the practical ability and competitiveness of individuals and teams are improved. The theme of this competition is AI and Image Recognition-Intelligent Counting of UAV Flying Vehicles (vehicle and crowd counting). UAV vehicles have high mobility and long-distance remote control functions, and can quickly and easily reach areas that are not easy to access. The high-resolution camera is like an eagle eye, which can look down on the surface from the sky, and record all the changes of the surface in the image without omitting it. At present, there is no such competition in China for aerial image analysis. On the basis of taking images, relevant training modules such as deep learning principles are used to identify the number of vehicles and people."
      ],
      "metadata": {
        "id": "Yv04c_cSWyAD"
      }
    },
    {
      "cell_type": "markdown",
      "source": [
        "## Grading\n",
        "1. Please use a .csv file to submit the file, and the content format must comply with the competition format regulations. Please use UTF-8 (without BOM header) encoding for uploading file content, and use Unix system linefeed characters. Do not use other Non-Printable Characters to avoid the possibility of scoring failure.\n",
        "1. The Leaderboard system will evaluate each submission result.\n",
        "During the competition, the participating teams will get the scores of the Public Leaderboard evaluation as a reference. At the end of the competition, the results of the Private Leaderboard will be announced separately, and the final ranking will be based on this result.\n",
        "1. The competition test set Private Dataset will be available for download at 10:00 am on 12/1 (Thursday). The private dataset decompression password of the competition test set will be announced in the announcement area of ​​the official website at 10:00 am on 12/2 (Friday), and the answer can be uploaded at the same time.\n",
        "1. Private Dataset forecast results can be uploaded between 12/2 (Fri) 10:00 am to 12/5 (Mon) 23:59:59 pm, and the maximum number of uploads per day is 3 times. \n",
        "1. Caution! Answer upload function is not available between 00:00 am to 09:59:59 am on 12/2 (Friday), and reopened at 10:00 am on 12/2 (Friday).\n",
        "1. From 12/2 (Fri) 10:00 am to 12/5 (Mon) 23:59:59 pm, the number of daily uploads will be calculated by the file. If the prediction results of the Public Dataset and the Private Dataset are combined in the same file submission, only the number of uploads will be calculated. for 1 commit. If the Public Dataset and Private Dataset prediction results are submitted by a separate file, it will be counted as 2 submissions."
      ],
      "metadata": {
        "id": "aSPcgtUTXAWL"
      }
    },
    {
      "cell_type": "markdown",
      "source": [
        "## Datasets\n",
        "\n",
        "* Training Dataset_v3.zip https://drive.google.com/file/d/1CPpVJOMwt7hJvxfHwqoUv9LrPeT0uC5X/view?usp=sharing\n",
        "\n",
        "* Public Testing Dataset_v2.zip https://drive.google.com/file/d/1zDEHdJ_ItzaBDHzpnDGfvri9CSUSLNnl/view?usp=sharing"
      ],
      "metadata": {
        "id": "5U3pwO8lYRix"
      }
    },
    {
      "cell_type": "markdown",
      "source": [
        "## Scoring-TIoU\n",
        "\n",
        "![](https://img-blog.csdnimg.cn/20190728164614363.png)\n",
        "\n",
        "\n",
        "![](https://img-blog.csdnimg.cn/20190728164614365.png)"
      ],
      "metadata": {
        "id": "q-HBAsQhYe_n"
      }
    },
    {
      "cell_type": "code",
      "execution_count": null,
      "metadata": {
        "id": "no61TJKXMYbX"
      },
      "outputs": [],
      "source": []
    }
  ]
}