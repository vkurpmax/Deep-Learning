{
  "nbformat": 4,
  "nbformat_minor": 0,
  "metadata": {
    "colab": {
      "provenance": [],
      "include_colab_link": true
    },
    "kernelspec": {
      "name": "python3",
      "display_name": "Python 3"
    },
    "language_info": {
      "name": "python"
    }
  },
  "cells": [
    {
      "cell_type": "markdown",
      "metadata": {
        "id": "view-in-github",
        "colab_type": "text"
      },
      "source": [
        "<a href=\"https://colab.research.google.com/github/vkurpmax/Deep-Learning/blob/main/htchu/111AUDL_Modterm_Questions.ipynb\" target=\"_parent\"><img src=\"https://colab.research.google.com/assets/colab-badge.svg\" alt=\"Open In Colab\"/></a>"
      ]
    },
    {
      "cell_type": "markdown",
      "source": [
        "#Program Fundamentals"
      ],
      "metadata": {
        "id": "29Bkhh9QerlX"
      }
    },
    {
      "cell_type": "markdown",
      "source": [
        "## Python"
      ],
      "metadata": {
        "id": "51fhZiEtpB1p"
      }
    },
    {
      "cell_type": "markdown",
      "source": [
        "1. Which of the following is not a built-in function of Python\n",
        "(a) type (b) help (c) max (d) sap\n",
        "1. a = 11*11%10 After the calculation, what is the value of the variable a?\n",
        "(a) 1 (b) 2 (c) 3 (d) 4\n",
        "1. Which number is not in range(1,4)\n",
        "(a) 1 (b) 2 (c) 3 (d) 4\n",
        "1. x = lambda a : a //5, what is the result of calling x(10)? (a) 1 (b) 2 (c) 3 (d) 4\n",
        "1. What is the value of b=[1, 2, 3, 4, 5], b[-4]? (a) 1 (b) 2 (c) 3 (d) 4\n"
      ],
      "metadata": {
        "id": "W8x0uD82fqkv"
      }
    },
    {
      "cell_type": "code",
      "source": [],
      "metadata": {
        "id": "uT7uq_XCn4k1"
      },
      "execution_count": null,
      "outputs": []
    },
    {
      "cell_type": "markdown",
      "source": [
        "## Numpy\n"
      ],
      "metadata": {
        "id": "ZwJsmFq9o2rT"
      }
    },
    {
      "cell_type": "markdown",
      "source": [
        "6. Which of the following instructions creates a 5 zero-element numpy.ndarray array\n",
        "(a) np.ones(5) (b) np.zeros(5) (c) np.zeros(10) (d) np.zeros(10)\n",
        "1. b = np.array([(1,2,3), (4,5,6)]) What is the value of the attribute b.ndim of variable b? (a) 1 (b) 2 (c) 3 ( d) 4\n",
        "1. a = np.array([1, 2, 3, 4]) What is the value of the attribute a.shape of the variable a? (a) (1,) (b) (2,) (c) (3,) (d) (4,)\n",
        "1. a = np.array([1, 2, 3, 4]).reshape(3, -1) What is the value of the attribute a.shape of variable a? (a) (1,1) (b) (2 ,2) (c) (3,2) (d) (3,3)\n",
        "1. a=np.sqrt([1, 2, 3, 4]), what is the value of a[3]? (a) 1.0 (b) 2.0 (c) 3.0 (d) 4.0"
      ],
      "metadata": {
        "id": "O3wyox6w31CN"
      }
    },
    {
      "cell_type": "code",
      "source": [],
      "metadata": {
        "id": "Zi1vJdU3f2aI"
      },
      "execution_count": null,
      "outputs": []
    },
    {
      "cell_type": "markdown",
      "source": [
        "## Pandas\n",
        "```\n",
        "import pandas as pd\n",
        "import numpy as np\n",
        "df = pd.DataFrame([[1, 2, 3], [4, 5, 6]], columns=list('ABC'))\n",
        "```\n",
        "11. Which of the following is the data type of Pandas: import pandas as pd (a) pd.Serial (b) pd.DataFrame (c) pd.DataSet (d) pd.Data\n",
        "1. Which of the following commands can see the last 5 columns of df (a) df.head() (b) df.describe() (c) df.tail() (d) df.fillna(value=1.0)\n",
        "1. What is the value of df.iloc[1, 2]? (a) 3 (b) 4 (c) 5 (d) 6\n",
        "1. Which of the following commands can save df as a csv file (a) df.to_csv() (b) pd.read_csv() (c) df.to_excel() (d) df.append()\n",
        "1. Which of the following commands cannot create a date in 2022 (a) pd.date_range('2022/1/1', periods=365)\n",
        "(b) pd.date_range('2022.1.1', periods=365) (c) pd.date_range('20220101', periods=365) (d) pd.date_range('2022Y', periods=365)"
      ],
      "metadata": {
        "id": "QLDHPGuMeRMk"
      }
    },
    {
      "cell_type": "code",
      "source": [],
      "metadata": {
        "id": "-K2q7l1P7P_H"
      },
      "execution_count": null,
      "outputs": []
    },
    {
      "cell_type": "markdown",
      "source": [
        "## scikit-learn"
      ],
      "metadata": {
        "id": "Js_1pVwIetvr"
      }
    },
    {
      "cell_type": "markdown",
      "source": [
        "16. Which of the following is not a class of sklearn.preprocessing (a) LabelEncoder (b) OneHotEncoder (c) PowerTransformer (d) NewTransformer\n",
        "1. Which of the following is not a class of sklearn.ensemble (a) AdaBoostClassifier (b) BetaBoostClassifier (c) BaggingClassifier (d) StackingClassifier\n",
        "1. Which of the following is not a category of sklearn.model_selection (a) KFold (b) LeaveOneOut (c) ShuffleSpooler (d) ShuffleSplit\n",
        "1. Which of the following is not an Unsupervised learning category of sklearn (a) GaussianMixture¶ (b) PCA (c) KMeans (d) SOM\n",
        "1. Which of the following is a class of sklearn that can draw ROC curves (a) RocDraw (b) RocCurvePlot (c) RocCurveShow (d) RocCurveDisplay"
      ],
      "metadata": {
        "id": "Uz0zBll8e0uD"
      }
    },
    {
      "cell_type": "code",
      "source": [],
      "metadata": {
        "id": "HzI1U5Bq-kXR"
      },
      "execution_count": null,
      "outputs": []
    },
    {
      "cell_type": "markdown",
      "source": [
        "# Machine learning"
      ],
      "metadata": {
        "id": "buLhFUzOejlN"
      }
    },
    {
      "cell_type": "markdown",
      "source": [
        "21. Which of the following is not a supervised learning method for machine learning (a) Support Vector Machine (SVM) (b) Random Forest (RF) (c) K-Nearest Neighbors (KNN) (d) K-Average Algorithms (K-Means)\n",
        "\n",
        "1. Which of the following is not an unsupervised learning method for machine learning (a) Self-Organizing Map (SOM) (b) Principal Component Analysis (PCA) (c) K-Nearest Neighbors (KNN) (d) K - Average Algorithm (K-Means)\n",
        "\n",
        "1. What kind of machine learning is house price prediction? (a) Supervised learning (b) Unsupervised learning (c) Reinforcement learning (d) Artificial learning\n",
        "\n",
        "1. What kind of machine learning is object detection? (a) Supervised learning (b) Unsupervised learning (c) Reinforcement learning (d) Artificial learning\n",
        "\n",
        "1. What kind of machine learning is a Generative Adversarial Network (GAN)? (a) Supervised learning (b) Unsupervised learning (c) Reinforcement learning ( d) Artificial learning"
      ],
      "metadata": {
        "id": "8haQ5aQkCLjn"
      }
    },
    {
      "cell_type": "markdown",
      "source": [
        "# Deep learning"
      ],
      "metadata": {
        "id": "5BmIy4SFe03a"
      }
    },
    {
      "cell_type": "markdown",
      "source": [
        "26. How to improve the model overfitting (Overfitting)? How to improve the model overfitting?\n",
        "(a) Add more training data.\n",
        "(b) To normalize To normalize.\n",
        "(c) Randomly turn off neurons To dropout.\n",
        "(d) All of the above are All of the above.\n",
        "22. Which of the following is NOT how Tensorflow builds deep learning models\n",
        "(a) Sequential API (b) Functional API (c) Subclassing API (d) Superclassing API\n",
        "\n",
        "23. Which of the following is not a neural layer that is often used in CNN deep learning models\n",
        "(a) Convolution Layer (‎Convolution Layer) (b) ‎Pooling Layer (‎Pooling Layer) (c) Dense Layer (d) Long Short-Term Memory Layer (LSTM Layer)\n",
        "1. Which of the following is not an RNN deep learning model\n",
        "(a) Convolution Layer (‎Convolution Layer) (b) ‎Pooling Layer (‎Pooling Layer) (c) Dense Layer (d) Long Short-Term Memory Layer (LSTM Layer)\n",
        "1. The activation function defines the output value of the neural node. Which of the following is not a common activation function (a) Linear rectification function (ReLU) (b) Hyperbolic tangent function (tanh) (c) S-shaped logic function (sigmoid) (d) exponential function (exp)\n"
      ],
      "metadata": {
        "id": "iMfBFXEXF-sf"
      }
    },
    {
      "cell_type": "markdown",
      "source": [],
      "metadata": {
        "id": "tuzfySiMepp1"
      }
    }
  ]
}