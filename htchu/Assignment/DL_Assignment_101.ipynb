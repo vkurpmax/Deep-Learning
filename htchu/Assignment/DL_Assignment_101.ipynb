{
  "nbformat": 4,
  "nbformat_minor": 0,
  "metadata": {
    "colab": {
      "provenance": [],
      "authorship_tag": "ABX9TyONKIO/DajDpgs6pBc993Fj",
      "include_colab_link": true
    },
    "kernelspec": {
      "name": "python3",
      "display_name": "Python 3"
    },
    "language_info": {
      "name": "python"
    }
  },
  "cells": [
    {
      "cell_type": "markdown",
      "metadata": {
        "id": "view-in-github",
        "colab_type": "text"
      },
      "source": [
        "<a href=\"https://colab.research.google.com/github/vkurpmax/Deep-Learning/blob/main/htchu/Assignment/DL_Assignment_101.ipynb\" target=\"_parent\"><img src=\"https://colab.research.google.com/assets/colab-badge.svg\" alt=\"Open In Colab\"/></a>"
      ]
    },
    {
      "cell_type": "code",
      "execution_count": 1,
      "metadata": {
        "id": "XqZF99M-I9Wi"
      },
      "outputs": [],
      "source": [
        "import cv2\n",
        "import pandas as pd\n",
        "import os\n",
        "import numpy"
      ]
    },
    {
      "cell_type": "code",
      "source": [
        "img_folder_path='/content/img0001.png'\n",
        "frame=cv2.imread(img_folder_path)"
      ],
      "metadata": {
        "id": "iw8mCCzMJGme"
      },
      "execution_count": 2,
      "outputs": []
    },
    {
      "cell_type": "code",
      "source": [
        "ac_bbox = '/content/img0001.txt'\n",
        "pd_bbox = '/content/img0001.txt'"
      ],
      "metadata": {
        "id": "Zgs3-7NwJgpH"
      },
      "execution_count": 3,
      "outputs": []
    },
    {
      "cell_type": "code",
      "source": [
        "def plot_bbox(img_folder_path, bbox_filename):\n",
        "  actual_bbox=open(bbox_filename)\n",
        "  img_folder_path=os.path.split(img_folder_path)[-1]\n",
        "  #print(img_folder_path)\n",
        "  count=0\n",
        "  temp_count=0\n",
        "  final_bbox_list=[]\n",
        "  for img in actual_bbox :\n",
        "    if img.find(img_folder_path) != -1:\n",
        "      print('file exist:',count)\n",
        "      print('given image',img)\n",
        "      temp_count=count\n",
        "      print(\"this is temp count\",temp_count)\n",
        "    if count > temp_count:\n",
        "\n",
        "      if img.find('/') == -1 :\n",
        "        final_bbox_list.append(img)\n",
        "      else:\n",
        "        break\n",
        "    count+=1\n",
        "  i=final_bbox_list[1]\n",
        "  temp_i=list(i.split(\" \"))\n",
        "  temp_i.pop(0)\n",
        "\n",
        "  p = numpy.array(temp_i)\n",
        "  k=p.astype(float)\n",
        "\n",
        "  x1=int(k[0])\n",
        "  y1=int(k[1])\n",
        "  x2=int(k[2])\n",
        "  y2=int(k[3])\n",
        "  return x1,y1,x2,y2\n",
        "\n",
        "x1,y1,x2,y2=plot_bbox(img_folder_path, ac_bbox)\n",
        "x_1,y_1,x_2,y_2=plot_bbox(img_folder_path, pd_bbox)\n",
        "\n",
        "cv2.rectangle(frame,(x1,y1),(x2,y2),(0,255,0),3) #rgb 220,20,60\n",
        "cv2.rectangle(frame,(x_1,y_1),(x_2,y_2),(60,20,220),3)\n",
        "print(frame)\n",
        "cv2.imshow('image',frame)\n",
        "cv2.waitkey(0)\n",
        "cv2.destroyAllWindows()"
      ],
      "metadata": {
        "colab": {
          "base_uri": "https://localhost:8080/",
          "height": 370
        },
        "id": "WY8oRDpzJtHD",
        "outputId": "ec6681d6-a2d4-42d6-ac4c-e52d8ef00f52"
      },
      "execution_count": 6,
      "outputs": [
        {
          "output_type": "error",
          "ename": "IndexError",
          "evalue": "ignored",
          "traceback": [
            "\u001b[0;31m---------------------------------------------------------------------------\u001b[0m",
            "\u001b[0;31mIndexError\u001b[0m                                Traceback (most recent call last)",
            "\u001b[0;32m<ipython-input-6-cfecdb2e80df>\u001b[0m in \u001b[0;36m<module>\u001b[0;34m\u001b[0m\n\u001b[1;32m     32\u001b[0m   \u001b[0;32mreturn\u001b[0m \u001b[0mx1\u001b[0m\u001b[0;34m,\u001b[0m\u001b[0my1\u001b[0m\u001b[0;34m,\u001b[0m\u001b[0mx2\u001b[0m\u001b[0;34m,\u001b[0m\u001b[0my2\u001b[0m\u001b[0;34m\u001b[0m\u001b[0;34m\u001b[0m\u001b[0m\n\u001b[1;32m     33\u001b[0m \u001b[0;34m\u001b[0m\u001b[0m\n\u001b[0;32m---> 34\u001b[0;31m \u001b[0mx1\u001b[0m\u001b[0;34m,\u001b[0m\u001b[0my1\u001b[0m\u001b[0;34m,\u001b[0m\u001b[0mx2\u001b[0m\u001b[0;34m,\u001b[0m\u001b[0my2\u001b[0m\u001b[0;34m=\u001b[0m\u001b[0mplot_bbox\u001b[0m\u001b[0;34m(\u001b[0m\u001b[0mimg_folder_path\u001b[0m\u001b[0;34m,\u001b[0m \u001b[0mac_bbox\u001b[0m\u001b[0;34m)\u001b[0m\u001b[0;34m\u001b[0m\u001b[0;34m\u001b[0m\u001b[0m\n\u001b[0m\u001b[1;32m     35\u001b[0m \u001b[0mx_1\u001b[0m\u001b[0;34m,\u001b[0m\u001b[0my_1\u001b[0m\u001b[0;34m,\u001b[0m\u001b[0mx_2\u001b[0m\u001b[0;34m,\u001b[0m\u001b[0my_2\u001b[0m\u001b[0;34m=\u001b[0m\u001b[0mplot_bbox\u001b[0m\u001b[0;34m(\u001b[0m\u001b[0mimg_folder_path\u001b[0m\u001b[0;34m,\u001b[0m \u001b[0mpd_bbox\u001b[0m\u001b[0;34m)\u001b[0m\u001b[0;34m\u001b[0m\u001b[0;34m\u001b[0m\u001b[0m\n\u001b[1;32m     36\u001b[0m \u001b[0;34m\u001b[0m\u001b[0m\n",
            "\u001b[0;32m<ipython-input-6-cfecdb2e80df>\u001b[0m in \u001b[0;36mplot_bbox\u001b[0;34m(img_folder_path, bbox_filename)\u001b[0m\n\u001b[1;32m     26\u001b[0m   \u001b[0mk\u001b[0m\u001b[0;34m=\u001b[0m\u001b[0mp\u001b[0m\u001b[0;34m.\u001b[0m\u001b[0mastype\u001b[0m\u001b[0;34m(\u001b[0m\u001b[0mfloat\u001b[0m\u001b[0;34m)\u001b[0m\u001b[0;34m\u001b[0m\u001b[0;34m\u001b[0m\u001b[0m\n\u001b[1;32m     27\u001b[0m \u001b[0;34m\u001b[0m\u001b[0m\n\u001b[0;32m---> 28\u001b[0;31m   \u001b[0mx1\u001b[0m\u001b[0;34m=\u001b[0m\u001b[0mint\u001b[0m\u001b[0;34m(\u001b[0m\u001b[0mk\u001b[0m\u001b[0;34m[\u001b[0m\u001b[0;36m1\u001b[0m\u001b[0;34m]\u001b[0m\u001b[0;34m)\u001b[0m\u001b[0;34m\u001b[0m\u001b[0;34m\u001b[0m\u001b[0m\n\u001b[0m\u001b[1;32m     29\u001b[0m   \u001b[0my1\u001b[0m\u001b[0;34m=\u001b[0m\u001b[0mint\u001b[0m\u001b[0;34m(\u001b[0m\u001b[0mk\u001b[0m\u001b[0;34m[\u001b[0m\u001b[0;36m1\u001b[0m\u001b[0;34m]\u001b[0m\u001b[0;34m)\u001b[0m\u001b[0;34m\u001b[0m\u001b[0;34m\u001b[0m\u001b[0m\n\u001b[1;32m     30\u001b[0m   \u001b[0mx2\u001b[0m\u001b[0;34m=\u001b[0m\u001b[0mint\u001b[0m\u001b[0;34m(\u001b[0m\u001b[0mk\u001b[0m\u001b[0;34m[\u001b[0m\u001b[0;36m2\u001b[0m\u001b[0;34m]\u001b[0m\u001b[0;34m)\u001b[0m\u001b[0;34m\u001b[0m\u001b[0;34m\u001b[0m\u001b[0m\n",
            "\u001b[0;31mIndexError\u001b[0m: index 1 is out of bounds for axis 0 with size 0"
          ]
        }
      ]
    }
  ]
}